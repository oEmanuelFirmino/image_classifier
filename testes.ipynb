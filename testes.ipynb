{
 "cells": [
  {
   "cell_type": "code",
   "execution_count": null,
   "metadata": {},
   "outputs": [
    {
     "name": "stderr",
     "output_type": "stream",
     "text": [
      "Processando imagens:  85%|████████▌ | 21330/24999 [00:32<00:08, 432.46it/s] "
     ]
    },
    {
     "name": "stdout",
     "output_type": "stream",
     "text": [
      "Erro ao processar kagglecatsanddogs_5340/PetImages/Cat/666.jpg: cannot identify image file 'kagglecatsanddogs_5340/PetImages/Cat/666.jpg'\n"
     ]
    },
    {
     "name": "stderr",
     "output_type": "stream",
     "text": [
      "Processando imagens: 100%|██████████| 24999/24999 [00:40<00:00, 613.97it/s]\n"
     ]
    },
    {
     "name": "stdout",
     "output_type": "stream",
     "text": [
      "Dataset carregado com sucesso. Shape: (24998, 32, 32, 3)\n"
     ]
    }
   ],
   "source": [
    "import os\n",
    "import numpy as np\n",
    "from PIL import Image\n",
    "from concurrent.futures import ThreadPoolExecutor\n",
    "from tqdm import tqdm\n",
    "\n",
    "def process_image(image_path, target_size=(32, 32)):\n",
    "    \"\"\"\n",
    "    Processa uma única imagem e retorna array numpy e classe\n",
    "    \"\"\"\n",
    "    try:\n",
    "        with Image.open(image_path) as img:\n",
    "            img = img.convert('RGB')\n",
    "            img = img.resize(target_size)\n",
    "            return np.array(img)\n",
    "    except (IOError, OSError) as e:\n",
    "        print(f\"Erro ao processar {image_path}: {e}\")\n",
    "        return None\n",
    "\n",
    "def load_dataset(dog_path, cat_path, target_size=(32, 32)):\n",
    "    \"\"\"\n",
    "    Carrega e processa o dataset completo usando processamento paralelo\n",
    "    \"\"\"\n",
    "    # Lista todos os arquivos\n",
    "    dog_images = [os.path.join(dog_path, f) for f in os.listdir(dog_path)]\n",
    "    cat_images = [os.path.join(cat_path, f) for f in os.listdir(cat_path)]\n",
    "    \n",
    "    images = dog_images + cat_images\n",
    "    classes = [[0, 1]] * len(dog_images) + [[1, 0]] * len(cat_images)\n",
    "    \n",
    "    # Processa imagens em paralelo\n",
    "    with ThreadPoolExecutor() as executor:\n",
    "        # Usa tqdm para mostrar barra de progresso\n",
    "        results = list(tqdm(\n",
    "            executor.map(process_image, images),\n",
    "            total=len(images),\n",
    "            desc=\"Processando imagens\"\n",
    "        ))\n",
    "    \n",
    "    # Remove resultados None (imagens com erro)\n",
    "    valid_results = [(img, cls) for img, cls in zip(results, classes) if img is not None]\n",
    "    \n",
    "    if not valid_results:\n",
    "        raise ValueError(\"Nenhuma imagem válida encontrada\")\n",
    "    \n",
    "    # Separa imagens e classes\n",
    "    train_images, train_classes = zip(*valid_results)\n",
    "    \n",
    "    return np.array(train_images), np.array(train_classes)\n",
    "\n",
    "dog_images_path = \"kagglecatsanddogs_5340/PetImages/Dog/\"\n",
    "cat_images_path = \"kagglecatsanddogs_5340/PetImages/Cat/\"\n",
    "\n",
    "try:\n",
    "    train, classes = load_dataset(dog_images_path, cat_images_path)\n",
    "    print(f\"Dataset carregado com sucesso. Shape: {train.shape}\")\n",
    "except Exception as e:\n",
    "    print(f\"Erro ao carregar dataset: {e}\")"
   ]
  }
 ],
 "metadata": {
  "kernelspec": {
   "display_name": ".venv",
   "language": "python",
   "name": "python3"
  },
  "language_info": {
   "codemirror_mode": {
    "name": "ipython",
    "version": 3
   },
   "file_extension": ".py",
   "mimetype": "text/x-python",
   "name": "python",
   "nbconvert_exporter": "python",
   "pygments_lexer": "ipython3",
   "version": "3.12.6"
  }
 },
 "nbformat": 4,
 "nbformat_minor": 2
}
